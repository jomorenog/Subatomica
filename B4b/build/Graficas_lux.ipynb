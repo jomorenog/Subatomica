{
 "cells": [
  {
   "cell_type": "code",
   "execution_count": 1,
   "id": "457ef97c",
   "metadata": {
    "ExecuteTime": {
     "end_time": "2023-06-04T01:51:38.354131Z",
     "start_time": "2023-06-04T01:51:36.592766Z"
    }
   },
   "outputs": [
    {
     "name": "stdout",
     "output_type": "stream",
     "text": [
      "Welcome to JupyROOT 6.28/02\n"
     ]
    }
   ],
   "source": [
    "import ROOT"
   ]
  },
  {
   "cell_type": "code",
   "execution_count": 8,
   "id": "dce7033a",
   "metadata": {
    "ExecuteTime": {
     "end_time": "2023-06-04T01:56:51.386007Z",
     "start_time": "2023-06-04T01:56:51.280915Z"
    }
   },
   "outputs": [
    {
     "name": "stdout",
     "output_type": "stream",
     "text": [
      "<C++ overload \"GetDirectory\" at 0x7fbdc25b4820>\n"
     ]
    }
   ],
   "source": [
    "myFile = ROOT.TFile.Open(\"B4.root\")\n",
    "hist = myFile.GetDirectory\n",
    "print(hist)"
   ]
  },
  {
   "cell_type": "code",
   "execution_count": 3,
   "id": "c4c7419d",
   "metadata": {
    "ExecuteTime": {
     "end_time": "2023-06-04T01:54:47.624366Z",
     "start_time": "2023-06-04T01:54:47.513003Z"
    }
   },
   "outputs": [
    {
     "data": {
      "text/plain": [
       "<cppyy.gbl.TFile object at 0x55c365127c80>"
      ]
     },
     "execution_count": 3,
     "metadata": {},
     "output_type": "execute_result"
    }
   ],
   "source": [
    "myFile"
   ]
  }
 ],
 "metadata": {
  "kernelspec": {
   "display_name": "Python 3 (ipykernel)",
   "language": "python",
   "name": "python3"
  },
  "language_info": {
   "codemirror_mode": {
    "name": "ipython",
    "version": 3
   },
   "file_extension": ".py",
   "mimetype": "text/x-python",
   "name": "python",
   "nbconvert_exporter": "python",
   "pygments_lexer": "ipython3",
   "version": "3.10.10"
  }
 },
 "nbformat": 4,
 "nbformat_minor": 5
}
